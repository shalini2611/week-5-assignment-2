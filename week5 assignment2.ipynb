{
 "cells": [
  {
   "cell_type": "markdown",
   "id": "c1d2610d-892f-4eed-825f-77f4219fcaa9",
   "metadata": {},
   "source": [
    "## Question 1: Explain why we have to use the Exception class while creating a Custom Exception.\n",
    "## Note: Here Exception class refers to the base class for all the exceptions\n"
   ]
  },
  {
   "cell_type": "markdown",
   "id": "18b68d6c",
   "metadata": {},
   "source": [
    "In Python, all built-in exceptions are subclasses of the Exception class. When we create a custom exception, we typically want it to be a subclass of one of the existing exceptions, or of the Exception class itself.\n",
    "\n",
    "There are several reasons for using the Exception class as the base class for a custom exception:\n",
    "\n",
    "Inheritance: By inheriting from the Exception class, our custom exception will inherit all the behavior and attributes of the Exception class, including the ability to raise and catch the exception, and the ability to customize the error message.\n",
    "\n",
    "Compatibility: By inheriting from the Exception class, our custom exception will be compatible with all the built-in exception handling mechanisms in Python, such as the try-except statement and the raise statement.\n",
    "\n",
    "Consistency: By using the Exception class as the base class for all our custom exceptions, we ensure that they have a consistent interface and behavior, which makes it easier to write code that handles multiple types of exceptions.\n",
    "\n",
    "Overall, using the Exception class as the base class for a custom exception is a best practice in Python, as it ensures that the custom exception behaves like a standard Python exception and is easy to integrate with existing code."
   ]
  },
  {
   "cell_type": "markdown",
   "id": "e54dbefa",
   "metadata": {},
   "source": [
    "here's a simple example of creating a custom exception that inherits from the Exception class:"
   ]
  },
  {
   "cell_type": "code",
   "execution_count": 1,
   "id": "c4cb0201",
   "metadata": {},
   "outputs": [],
   "source": [
    "class validateage(Exception):\n",
    "    def __init__(self,msg):\n",
    "        self.msg=msg\n",
    "    "
   ]
  },
  {
   "cell_type": "code",
   "execution_count": 2,
   "id": "490a9f1c",
   "metadata": {},
   "outputs": [],
   "source": [
    "def validate_age(age):\n",
    "    if age <0 :\n",
    "        raise validateage(\"cannot be negative\")\n",
    "        \n",
    "    elif age>120:\n",
    "        raise validateage(\"out of range\")\n",
    "        \n",
    "    else :\n",
    "        raise validateage(\"valid\")\n",
    "        \n"
   ]
  },
  {
   "cell_type": "code",
   "execution_count": 3,
   "id": "addd5ae8",
   "metadata": {},
   "outputs": [
    {
     "name": "stdin",
     "output_type": "stream",
     "text": [
      "enter age 19\n"
     ]
    },
    {
     "name": "stdout",
     "output_type": "stream",
     "text": [
      "valid\n"
     ]
    }
   ],
   "source": [
    "try :\n",
    "    age=int(input(\"enter age\"))\n",
    "    validate_age(age)\n",
    "    \n",
    "except validateage as e :\n",
    "    print(e)"
   ]
  },
  {
   "cell_type": "markdown",
   "id": "9dbf8839-7719-474a-afba-6fd1ac9e210b",
   "metadata": {},
   "source": [
    "# Question 2: Write a python program to print Python Exception Hierarchy."
   ]
  },
  {
   "cell_type": "code",
   "execution_count": 11,
   "id": "cb06579a-7856-441a-8a03-ecac8bf88d73",
   "metadata": {},
   "outputs": [],
   "source": [
    "#ans 2: problem in this que"
   ]
  },
  {
   "cell_type": "markdown",
   "id": "85f1aa44-8dd2-4710-9b93-35e85b45698e",
   "metadata": {},
   "source": [
    "## Question 3: What errors are defined in the ArithmeticError class? Explain any two with an example.\n"
   ]
  },
  {
   "cell_type": "markdown",
   "id": "ad14abde",
   "metadata": {},
   "source": [
    "The ArithmeticError class is a built-in exception class in Python that is raised when an arithmetic operation fails. It is the base class for all errors that occur for numeric calculations.\n",
    "\n",
    "Here are two examples of errors defined in the ArithmeticError class:\n",
    "\n",
    "1. ZeroDivisionError: This error is raised when a number is divided by zero.\n",
    "For example, the following code will raise a ZeroDivisionError:\n",
    "\n"
   ]
  },
  {
   "cell_type": "code",
   "execution_count": 5,
   "id": "97779b4b",
   "metadata": {},
   "outputs": [
    {
     "ename": "ZeroDivisionError",
     "evalue": "division by zero",
     "output_type": "error",
     "traceback": [
      "\u001b[0;31m---------------------------------------------------------------------------\u001b[0m",
      "\u001b[0;31mZeroDivisionError\u001b[0m                         Traceback (most recent call last)",
      "Cell \u001b[0;32mIn[5], line 1\u001b[0m\n\u001b[0;32m----> 1\u001b[0m \u001b[38;5;241;43m2\u001b[39;49m\u001b[38;5;241;43m/\u001b[39;49m\u001b[38;5;241;43m0\u001b[39;49m\n",
      "\u001b[0;31mZeroDivisionError\u001b[0m: division by zero"
     ]
    }
   ],
   "source": [
    "2/0"
   ]
  },
  {
   "cell_type": "markdown",
   "id": "1928604d",
   "metadata": {},
   "source": [
    "2. OverflowError: This error is raised when the result of an arithmetic operation is too large to be represented by the numeric type.\n",
    "For example, the following code will raise an OverflowError:"
   ]
  },
  {
   "cell_type": "code",
   "execution_count": 6,
   "id": "9faaee56",
   "metadata": {},
   "outputs": [],
   "source": [
    "import sys "
   ]
  },
  {
   "cell_type": "code",
   "execution_count": 7,
   "id": "3518232b",
   "metadata": {},
   "outputs": [
    {
     "name": "stdout",
     "output_type": "stream",
     "text": [
      "inf\n"
     ]
    }
   ],
   "source": [
    "x=sys.float_info.max\n",
    "y=x*2\n",
    "print(y)"
   ]
  },
  {
   "cell_type": "markdown",
   "id": "2d99e821",
   "metadata": {},
   "source": [
    "In this example, we are trying to multiply the maximum float value by 2, which results in a value that exceeds the maximum representable value for a float. This causes the result to be represented as infinity (inf) instead of a numeric value, indicating that an overflow has occurred"
   ]
  },
  {
   "cell_type": "markdown",
   "id": "c1eb3d08-66eb-4a76-8c8a-5af5620cd9c9",
   "metadata": {},
   "source": [
    "# Question 4: Why LookupError class is used? Explain with an example KeyError and IndexError."
   ]
  },
  {
   "cell_type": "markdown",
   "id": "4fb9a776",
   "metadata": {},
   "source": [
    "LookupError is the Base class for errors raised when something can't be found."
   ]
  },
  {
   "cell_type": "markdown",
   "id": "4e0dae5a",
   "metadata": {},
   "source": [
    "1. KeyError: This exception is raised when we try to access a dictionary key that does not exist."
   ]
  },
  {
   "cell_type": "code",
   "execution_count": 8,
   "id": "c2c2e154",
   "metadata": {},
   "outputs": [
    {
     "ename": "KeyError",
     "evalue": "'key4'",
     "output_type": "error",
     "traceback": [
      "\u001b[0;31m---------------------------------------------------------------------------\u001b[0m",
      "\u001b[0;31mKeyError\u001b[0m                                  Traceback (most recent call last)",
      "Cell \u001b[0;32mIn[8], line 2\u001b[0m\n\u001b[1;32m      1\u001b[0m d\u001b[38;5;241m=\u001b[39m{\u001b[38;5;124m\"\u001b[39m\u001b[38;5;124mkey1\u001b[39m\u001b[38;5;124m\"\u001b[39m:\u001b[38;5;124m\"\u001b[39m\u001b[38;5;124mvalue1\u001b[39m\u001b[38;5;124m\"\u001b[39m,\u001b[38;5;124m\"\u001b[39m\u001b[38;5;124mkey2\u001b[39m\u001b[38;5;124m\"\u001b[39m:\u001b[38;5;124m\"\u001b[39m\u001b[38;5;124mvalue2\u001b[39m\u001b[38;5;124m\"\u001b[39m,\u001b[38;5;124m\"\u001b[39m\u001b[38;5;124mkey3\u001b[39m\u001b[38;5;124m\"\u001b[39m:\u001b[38;5;124m\"\u001b[39m\u001b[38;5;124mvalue3\u001b[39m\u001b[38;5;124m\"\u001b[39m}\n\u001b[0;32m----> 2\u001b[0m \u001b[43md\u001b[49m\u001b[43m[\u001b[49m\u001b[38;5;124;43m\"\u001b[39;49m\u001b[38;5;124;43mkey4\u001b[39;49m\u001b[38;5;124;43m\"\u001b[39;49m\u001b[43m]\u001b[49m\n",
      "\u001b[0;31mKeyError\u001b[0m: 'key4'"
     ]
    }
   ],
   "source": [
    "d={\"key1\":\"value1\",\"key2\":\"value2\",\"key3\":\"value3\"}\n",
    "d[\"key4\"]"
   ]
  },
  {
   "cell_type": "markdown",
   "id": "5f1ed35f",
   "metadata": {},
   "source": [
    "2. IndexError: This exception is raised when we try to access a list index that is out of range."
   ]
  },
  {
   "cell_type": "code",
   "execution_count": 9,
   "id": "a6bcb25a",
   "metadata": {},
   "outputs": [
    {
     "ename": "IndexError",
     "evalue": "list index out of range",
     "output_type": "error",
     "traceback": [
      "\u001b[0;31m---------------------------------------------------------------------------\u001b[0m",
      "\u001b[0;31mIndexError\u001b[0m                                Traceback (most recent call last)",
      "Cell \u001b[0;32mIn[9], line 2\u001b[0m\n\u001b[1;32m      1\u001b[0m l\u001b[38;5;241m=\u001b[39m[\u001b[38;5;241m1\u001b[39m,\u001b[38;5;241m2\u001b[39m,\u001b[38;5;241m3\u001b[39m,\u001b[38;5;241m4\u001b[39m,\u001b[38;5;241m5\u001b[39m,\u001b[38;5;241m6\u001b[39m,\u001b[38;5;241m7\u001b[39m,\u001b[38;5;241m8\u001b[39m,\u001b[38;5;241m9\u001b[39m,\u001b[38;5;241m10\u001b[39m]\n\u001b[0;32m----> 2\u001b[0m \u001b[43ml\u001b[49m\u001b[43m[\u001b[49m\u001b[38;5;241;43m11\u001b[39;49m\u001b[43m]\u001b[49m\n",
      "\u001b[0;31mIndexError\u001b[0m: list index out of range"
     ]
    }
   ],
   "source": [
    "l=[1,2,3,4,5,6,7,8,9,10]\n",
    "l[11]"
   ]
  },
  {
   "cell_type": "markdown",
   "id": "060852c0-52ec-4987-9b00-8119d76d5372",
   "metadata": {},
   "source": [
    "## Question 5 : Explain ImportError. What is ModuleNotFoundError?\n"
   ]
  },
  {
   "cell_type": "markdown",
   "id": "1a0faf9e",
   "metadata": {},
   "source": [
    "In Python, ImportError is a built-in exception class that is raised when an imported module, package, or name cannot be found or loaded. This error can occur for several reasons, such as a typo in the module or package name, the module or package not being installed, or the module or package being in a different directory than expected.\n",
    "\n",
    "For example, suppose you have a Python script that imports a module called maths using the import statement. If the maths module is not installed or is not available in the Python path, Python will raise an ImportError."
   ]
  },
  {
   "cell_type": "code",
   "execution_count": 10,
   "id": "599bd2cc",
   "metadata": {},
   "outputs": [
    {
     "ename": "ModuleNotFoundError",
     "evalue": "No module named 'maths'",
     "output_type": "error",
     "traceback": [
      "\u001b[0;31m---------------------------------------------------------------------------\u001b[0m",
      "\u001b[0;31mModuleNotFoundError\u001b[0m                       Traceback (most recent call last)",
      "Cell \u001b[0;32mIn[10], line 1\u001b[0m\n\u001b[0;32m----> 1\u001b[0m \u001b[38;5;28;01mimport\u001b[39;00m \u001b[38;5;21;01mmaths\u001b[39;00m \n",
      "\u001b[0;31mModuleNotFoundError\u001b[0m: No module named 'maths'"
     ]
    }
   ],
   "source": [
    "import maths "
   ]
  },
  {
   "cell_type": "markdown",
   "id": "d7d51d53",
   "metadata": {},
   "source": [
    "Python 3.6 introduced a new subclass of ImportError called ModuleNotFoundError, which is raised when a module or package is not found during an import statement. ModuleNotFoundError provides a more specific error message, making it easier to diagnose and fix import errors."
   ]
  },
  {
   "cell_type": "markdown",
   "id": "c46e8e99",
   "metadata": {},
   "source": [
    "In Python 3.6 and later versions, if you try to import a non-existent module or package, Python will raise ModuleNotFoundError instead of the more general ImportError. This makes it easier to determine the cause of the error and fix it quickly."
   ]
  },
  {
   "cell_type": "markdown",
   "id": "5d7c422c-87ca-4e2c-be8e-76b134228d3b",
   "metadata": {},
   "source": [
    "## Question 6 : List down some best practices for exception handling in python.\n"
   ]
  },
  {
   "cell_type": "markdown",
   "id": "3d773475",
   "metadata": {},
   "source": [
    "Here are some best practices for exception handling in Python:\n",
    "\n",
    "1. Catch only the specific exceptions that you are expecting and handle them accordingly. This helps in making your code more robust and maintainable.\n",
    "2. Use the try-except-else-finally block for handling exceptions. The try block contains the code that might raise an exception, the except block handles the exception, the else block executes if no exception is raised, and the finally block executes regardless of whether an exception is raised or not.\n",
    "3. Provide informative error messages that help in diagnosing and fixing the issue. Avoid generic error messages that do not provide any useful information to the user.\n",
    "4. Use logging to record errors and exceptions instead of printing them to the console. This helps in debugging and maintaining the code.\n",
    "5. Use multiple except blocks to handle different exceptions. This allows you to handle different exceptions in different ways, instead of having a single catch-all except block that handles all exceptions in the same way.\n",
    "6. Use context managers like with statements to ensure that resources like files and sockets are properly closed and cleaned up after use, even if an exception is raised.\n",
    "7. Avoid catching and silently ignoring exceptions, as this can lead to hard-to-diagnose bugs later on. Instead, log the exception and/or re-raise it with additional context.\n",
    "8. Do not use exceptions for control flow. Exceptions should only be used to handle exceptional or unexpected conditions, not to control the flow of the program.\n",
    "9. Always clean up after an exception. This includes closing files, freeing resources, and restoring the program state to its previous state."
   ]
  },
  {
   "cell_type": "code",
   "execution_count": null,
   "id": "a532abd1",
   "metadata": {},
   "outputs": [],
   "source": []
  }
 ],
 "metadata": {
  "kernelspec": {
   "display_name": "Python 3 (ipykernel)",
   "language": "python",
   "name": "python3"
  },
  "language_info": {
   "codemirror_mode": {
    "name": "ipython",
    "version": 3
   },
   "file_extension": ".py",
   "mimetype": "text/x-python",
   "name": "python",
   "nbconvert_exporter": "python",
   "pygments_lexer": "ipython3",
   "version": "3.10.8"
  }
 },
 "nbformat": 4,
 "nbformat_minor": 5
}
